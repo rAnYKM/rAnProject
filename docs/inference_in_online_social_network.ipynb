{
 "cells": [
  {
   "cell_type": "markdown",
   "metadata": {
    "collapsed": true
   },
   "source": [
    "# Inference in Online Social Networks\n",
    "\n",
    "## Non-parametric statstical inference\n",
    "\n",
    "To characterize the structures of networks, it is common to divide the nodes into modules or communities, which is conducted by formulating generative models.\n",
    "\n",
    "Define a model that generates a network G with a probability \n",
    "\n",
    "$$P(G|\\theta, b)$$"
   ]
  },
  {
   "cell_type": "code",
   "execution_count": null,
   "outputs": [],
   "source": [
    ""
   ]
  }
 ],
 "metadata": {
  "kernelspec": {
   "display_name": "Python 2",
   "language": "python",
   "name": "python2"
  },
  "language_info": {
   "codemirror_mode": {
    "name": "ipython",
    "version": 2.0
   },
   "file_extension": ".py",
   "mimetype": "text/x-python",
   "name": "python",
   "nbconvert_exporter": "python",
   "pygments_lexer": "ipython2",
   "version": "2.7.6"
  }
 },
 "nbformat": 4,
 "nbformat_minor": 0
}