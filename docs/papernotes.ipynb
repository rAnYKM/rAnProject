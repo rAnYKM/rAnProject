{
 "cells": [
  {
   "cell_type": "markdown",
   "metadata": {},
   "source": [
    "# Paper Notes \n",
    "\n",
    "## Terminology\n",
    "\n",
    "- **generative model**: a model for randomly generating observable data values, typically given some hidden parameters.\n",
    "- **stochastic block model (SBM)**: to divide $N$ nodes into $B$ blocks with $e_{rs}$ edges between nodes of blocks $r$ and $s$. The detection of modules involves inferring the most likely model parameter to generate the observed network.\n",
    "- **modularity**: to measure the strength of division of a network into modules (groups, clusters or communities). Hight modularity -> Dense connections within modules but sparse connections in different modules.\n",
    "- **assortative connection**: a bias in favor of connections between network nodes with similar characteristics. (in social networks, assortative mixing is known as homophily)\n",
    "- **core-periphery structure**: it consists of a dense cohesive core and a sparse, loosely connected periphery.\n",
    "\n",
    "## Background\n",
    "\n",
    "In social networks, vertices can be divided into *communities* or *modules* based on their connections. The task of detecting modules in networks can be viewed as a process of statistical inference of the parameters of the generative model given the observed data. "
   ]
  },
  {
   "cell_type": "code",
   "execution_count": null,
   "metadata": {
    "collapsed": true
   },
   "outputs": [],
   "source": []
  }
 ],
 "metadata": {
  "kernelspec": {
   "display_name": "Python 2",
   "language": "python",
   "name": "python2"
  },
  "language_info": {
   "codemirror_mode": {
    "name": "ipython",
    "version": 2
   },
   "file_extension": ".py",
   "mimetype": "text/x-python",
   "name": "python",
   "nbconvert_exporter": "python",
   "pygments_lexer": "ipython2",
   "version": "2.7.12"
  }
 },
 "nbformat": 4,
 "nbformat_minor": 1
}
